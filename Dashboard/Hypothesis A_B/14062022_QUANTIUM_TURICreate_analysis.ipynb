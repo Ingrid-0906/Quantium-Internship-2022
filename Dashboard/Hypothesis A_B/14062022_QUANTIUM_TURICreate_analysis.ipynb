{
 "cells": [
  {
   "cell_type": "markdown",
   "id": "f3595932",
   "metadata": {},
   "source": [
    "# Experimentation and uplift testing\n",
    "<br>\n",
    "<br>\n",
    "*Extend your analysis from Task 1 to help you identify benchmark stores that allow you to test the impact of the trial store layouts on customer sales.*\n",
    "<br>\n",
    "<br>\n",
    "**Here is your task**<br>\n",
    "Julia has asked us to evaluate the performance of a store trial which was performed in stores:\n",
    "<br>\n",
    "- 77, 86 and 88.\n",
    "\n",
    "\n",
    "To get started use the QVI_data dataset below or your output from task 1 and consider the monthly sales experience of each store.<br>\n",
    "\n",
    "This can be broken down by:<br>\n",
    "\n",
    "- total sales revenue\n",
    "- total number of customers\n",
    "- average number of transactions per customer\n",
    "\n",
    "Create a measure to compare different control stores to each of the trial stores to do this write a function to reduce having to re-do the analysis for each trial store.<br>\n",
    "Once you have selected your control stores, compare each trial and control pair during the trial period. You want to test if total sales are significantly different in the trial period and if so, check if the driver of change is more purchasing customers or more purchases per customers etc.<br>"
   ]
  },
  {
   "cell_type": "markdown",
   "id": "7a6ae830",
   "metadata": {
    "heading_collapsed": true
   },
   "source": [
    "# Libraries and Data"
   ]
  },
  {
   "cell_type": "code",
   "execution_count": 173,
   "id": "f23a4920",
   "metadata": {
    "hidden": true
   },
   "outputs": [],
   "source": [
    "#Date data type\n",
    "from datetime import datetime\n",
    "\n",
    "#Standard\n",
    "import numpy as np\n",
    "import statistics\n",
    "import pandas as pd\n",
    "import scipy.stats\n",
    "import turicreate\n",
    "import turicreate.aggregate as agg"
   ]
  },
  {
   "cell_type": "code",
   "execution_count": 174,
   "id": "92a4eff1",
   "metadata": {
    "hidden": true
   },
   "outputs": [
    {
     "data": {
      "text/html": [
       "<pre>Finished parsing file /home/ingrid_silva/Documents/PORTFOLIO/Projects-Intership/Quantium/task2/QVI_W_data.csv</pre>"
      ],
      "text/plain": [
       "Finished parsing file /home/ingrid_silva/Documents/PORTFOLIO/Projects-Intership/Quantium/task2/QVI_W_data.csv"
      ]
     },
     "metadata": {},
     "output_type": "display_data"
    },
    {
     "data": {
      "text/html": [
       "<pre>Parsing completed. Parsed 100 lines in 11.1069 secs.</pre>"
      ],
      "text/plain": [
       "Parsing completed. Parsed 100 lines in 11.1069 secs."
      ]
     },
     "metadata": {},
     "output_type": "display_data"
    },
    {
     "name": "stdout",
     "output_type": "stream",
     "text": [
      "------------------------------------------------------\n",
      "Inferred types from first 100 line(s) of file as \n",
      "column_type_hints=[int,int,str,int,int,int,str,int,float,int,str,str,str,int]\n",
      "If parsing fails due to incorrect types, you can correct\n",
      "the inferred type list above and pass it to read_csv in\n",
      "the column_type_hints argument\n",
      "------------------------------------------------------\n"
     ]
    },
    {
     "data": {
      "text/html": [
       "<pre>Finished parsing file /home/ingrid_silva/Documents/PORTFOLIO/Projects-Intership/Quantium/task2/QVI_W_data.csv</pre>"
      ],
      "text/plain": [
       "Finished parsing file /home/ingrid_silva/Documents/PORTFOLIO/Projects-Intership/Quantium/task2/QVI_W_data.csv"
      ]
     },
     "metadata": {},
     "output_type": "display_data"
    },
    {
     "data": {
      "text/html": [
       "<pre>Parsing completed. Parsed 264834 lines in 7.72578 secs.</pre>"
      ],
      "text/plain": [
       "Parsing completed. Parsed 264834 lines in 7.72578 secs."
      ]
     },
     "metadata": {},
     "output_type": "display_data"
    }
   ],
   "source": [
    "data = turicreate.SFrame.read_csv(\"QVI_W_data.csv\")"
   ]
  },
  {
   "cell_type": "code",
   "execution_count": 175,
   "id": "cf03c5ed",
   "metadata": {
    "hidden": true,
    "scrolled": true
   },
   "outputs": [],
   "source": [
    "#data.column_names()"
   ]
  },
  {
   "cell_type": "markdown",
   "id": "c1c9adeb",
   "metadata": {
    "heading_collapsed": true
   },
   "source": [
    "# Before the TRIAL -:> Fev - Apr/19\n",
    "\n",
    "Here I took the crowned holidays period that consists of 'NOV - DEZ - JAN' as 'before the trial'.<br>\n",
    "The objective is to measure the development along both periods.<br>\n",
    "I desire also to check what were the the drivers that led to the success or unsuccess of the trial in these stores."
   ]
  },
  {
   "cell_type": "markdown",
   "id": "421ec557",
   "metadata": {
    "hidden": true
   },
   "source": [
    "## Data Preparing"
   ]
  },
  {
   "cell_type": "code",
   "execution_count": 176,
   "id": "8143148f",
   "metadata": {
    "hidden": true
   },
   "outputs": [
    {
     "data": {
      "text/html": [
       "<div style=\"max-height:1000px;max-width:1500px;overflow:auto;\"><table frame=\"box\" rules=\"cols\">\n",
       "    <tr>\n",
       "        <th style=\"padding-left: 1em; padding-right: 1em; text-align: center\">value</th>\n",
       "        <th style=\"padding-left: 1em; padding-right: 1em; text-align: center\">count</th>\n",
       "    </tr>\n",
       "    <tr>\n",
       "        <td style=\"padding-left: 1em; padding-right: 1em; text-align: center; vertical-align: top\">201812</td>\n",
       "        <td style=\"padding-left: 1em; padding-right: 1em; text-align: center; vertical-align: top\">22835</td>\n",
       "    </tr>\n",
       "    <tr>\n",
       "        <td style=\"padding-left: 1em; padding-right: 1em; text-align: center; vertical-align: top\">201901</td>\n",
       "        <td style=\"padding-left: 1em; padding-right: 1em; text-align: center; vertical-align: top\">22161</td>\n",
       "    </tr>\n",
       "    <tr>\n",
       "        <td style=\"padding-left: 1em; padding-right: 1em; text-align: center; vertical-align: top\">201811</td>\n",
       "        <td style=\"padding-left: 1em; padding-right: 1em; text-align: center; vertical-align: top\">21852</td>\n",
       "    </tr>\n",
       "</table>\n",
       "[3 rows x 2 columns]<br/>\n",
       "</div>"
      ],
      "text/plain": [
       "Columns:\n",
       "\tvalue\tint\n",
       "\tcount\tint\n",
       "\n",
       "Rows: 3\n",
       "\n",
       "Data:\n",
       "+--------+-------+\n",
       "| value  | count |\n",
       "+--------+-------+\n",
       "| 201812 | 22835 |\n",
       "| 201901 | 22161 |\n",
       "| 201811 | 21852 |\n",
       "+--------+-------+\n",
       "[3 rows x 2 columns]"
      ]
     },
     "execution_count": 176,
     "metadata": {},
     "output_type": "execute_result"
    }
   ],
   "source": [
    "dt_19_01 = data.filter_by(filter(lambda x: x > 201810 and x <= 201901, data['NEW_DATE']), 'NEW_DATE')\n",
    "dt_19_01['NEW_DATE'].value_counts()"
   ]
  },
  {
   "cell_type": "code",
   "execution_count": 177,
   "id": "c18233f7",
   "metadata": {
    "hidden": true
   },
   "outputs": [
    {
     "data": {
      "text/html": [
       "<div style=\"max-height:1000px;max-width:1500px;overflow:auto;\"><table frame=\"box\" rules=\"cols\">\n",
       "    <tr>\n",
       "        <th style=\"padding-left: 1em; padding-right: 1em; text-align: center\">STORE_NBR</th>\n",
       "        <th style=\"padding-left: 1em; padding-right: 1em; text-align: center\">PROD_QTY</th>\n",
       "        <th style=\"padding-left: 1em; padding-right: 1em; text-align: center\">TOT_MEAN</th>\n",
       "        <th style=\"padding-left: 1em; padding-right: 1em; text-align: center\">NTXN</th>\n",
       "        <th style=\"padding-left: 1em; padding-right: 1em; text-align: center\">TOT_SALES</th>\n",
       "        <th style=\"padding-left: 1em; padding-right: 1em; text-align: center\">NCUSTOMER</th>\n",
       "    </tr>\n",
       "    <tr>\n",
       "        <td style=\"padding-left: 1em; padding-right: 1em; text-align: center; vertical-align: top\">118</td>\n",
       "        <td style=\"padding-left: 1em; padding-right: 1em; text-align: center; vertical-align: top\">766</td>\n",
       "        <td style=\"padding-left: 1em; padding-right: 1em; text-align: center; vertical-align: top\">6.95248041775457</td>\n",
       "        <td style=\"padding-left: 1em; padding-right: 1em; text-align: center; vertical-align: top\">381</td>\n",
       "        <td style=\"padding-left: 1em; padding-right: 1em; text-align: center; vertical-align: top\">2662.8</td>\n",
       "        <td style=\"padding-left: 1em; padding-right: 1em; text-align: center; vertical-align: top\">205</td>\n",
       "    </tr>\n",
       "    <tr>\n",
       "        <td style=\"padding-left: 1em; padding-right: 1em; text-align: center; vertical-align: top\">130</td>\n",
       "        <td style=\"padding-left: 1em; padding-right: 1em; text-align: center; vertical-align: top\">772</td>\n",
       "        <td style=\"padding-left: 1em; padding-right: 1em; text-align: center; vertical-align: top\">8.852442159383035</td>\n",
       "        <td style=\"padding-left: 1em; padding-right: 1em; text-align: center; vertical-align: top\">388</td>\n",
       "        <td style=\"padding-left: 1em; padding-right: 1em; text-align: center; vertical-align: top\">3443.599999999999</td>\n",
       "        <td style=\"padding-left: 1em; padding-right: 1em; text-align: center; vertical-align: top\">259</td>\n",
       "    </tr>\n",
       "    <tr>\n",
       "        <td style=\"padding-left: 1em; padding-right: 1em; text-align: center; vertical-align: top\">257</td>\n",
       "        <td style=\"padding-left: 1em; padding-right: 1em; text-align: center; vertical-align: top\">802</td>\n",
       "        <td style=\"padding-left: 1em; padding-right: 1em; text-align: center; vertical-align: top\">6.866334164588525</td>\n",
       "        <td style=\"padding-left: 1em; padding-right: 1em; text-align: center; vertical-align: top\">401</td>\n",
       "        <td style=\"padding-left: 1em; padding-right: 1em; text-align: center; vertical-align: top\">2753.3999999999996</td>\n",
       "        <td style=\"padding-left: 1em; padding-right: 1em; text-align: center; vertical-align: top\">212</td>\n",
       "    </tr>\n",
       "    <tr>\n",
       "        <td style=\"padding-left: 1em; padding-right: 1em; text-align: center; vertical-align: top\">217</td>\n",
       "        <td style=\"padding-left: 1em; padding-right: 1em; text-align: center; vertical-align: top\">786</td>\n",
       "        <td style=\"padding-left: 1em; padding-right: 1em; text-align: center; vertical-align: top\">8.9470737913486</td>\n",
       "        <td style=\"padding-left: 1em; padding-right: 1em; text-align: center; vertical-align: top\">390</td>\n",
       "        <td style=\"padding-left: 1em; padding-right: 1em; text-align: center; vertical-align: top\">3516.2</td>\n",
       "        <td style=\"padding-left: 1em; padding-right: 1em; text-align: center; vertical-align: top\">244</td>\n",
       "    </tr>\n",
       "    <tr>\n",
       "        <td style=\"padding-left: 1em; padding-right: 1em; text-align: center; vertical-align: top\">232</td>\n",
       "        <td style=\"padding-left: 1em; padding-right: 1em; text-align: center; vertical-align: top\">794</td>\n",
       "        <td style=\"padding-left: 1em; padding-right: 1em; text-align: center; vertical-align: top\">7.027707808564232</td>\n",
       "        <td style=\"padding-left: 1em; padding-right: 1em; text-align: center; vertical-align: top\">391</td>\n",
       "        <td style=\"padding-left: 1em; padding-right: 1em; text-align: center; vertical-align: top\">2789.9999999999995</td>\n",
       "        <td style=\"padding-left: 1em; padding-right: 1em; text-align: center; vertical-align: top\">207</td>\n",
       "    </tr>\n",
       "    <tr>\n",
       "        <td style=\"padding-left: 1em; padding-right: 1em; text-align: center; vertical-align: top\">49</td>\n",
       "        <td style=\"padding-left: 1em; padding-right: 1em; text-align: center; vertical-align: top\">765</td>\n",
       "        <td style=\"padding-left: 1em; padding-right: 1em; text-align: center; vertical-align: top\">8.834196891191713</td>\n",
       "        <td style=\"padding-left: 1em; padding-right: 1em; text-align: center; vertical-align: top\">384</td>\n",
       "        <td style=\"padding-left: 1em; padding-right: 1em; text-align: center; vertical-align: top\">3409.999999999999</td>\n",
       "        <td style=\"padding-left: 1em; padding-right: 1em; text-align: center; vertical-align: top\">247</td>\n",
       "    </tr>\n",
       "    <tr>\n",
       "        <td style=\"padding-left: 1em; padding-right: 1em; text-align: center; vertical-align: top\">13</td>\n",
       "        <td style=\"padding-left: 1em; padding-right: 1em; text-align: center; vertical-align: top\">832</td>\n",
       "        <td style=\"padding-left: 1em; padding-right: 1em; text-align: center; vertical-align: top\">6.862980769230769</td>\n",
       "        <td style=\"padding-left: 1em; padding-right: 1em; text-align: center; vertical-align: top\">412</td>\n",
       "        <td style=\"padding-left: 1em; padding-right: 1em; text-align: center; vertical-align: top\">2854.9999999999995</td>\n",
       "        <td style=\"padding-left: 1em; padding-right: 1em; text-align: center; vertical-align: top\">206</td>\n",
       "    </tr>\n",
       "    <tr>\n",
       "        <td style=\"padding-left: 1em; padding-right: 1em; text-align: center; vertical-align: top\">241</td>\n",
       "        <td style=\"padding-left: 1em; padding-right: 1em; text-align: center; vertical-align: top\">658</td>\n",
       "        <td style=\"padding-left: 1em; padding-right: 1em; text-align: center; vertical-align: top\">7.070516717325227</td>\n",
       "        <td style=\"padding-left: 1em; padding-right: 1em; text-align: center; vertical-align: top\">325</td>\n",
       "        <td style=\"padding-left: 1em; padding-right: 1em; text-align: center; vertical-align: top\">2326.1999999999994</td>\n",
       "        <td style=\"padding-left: 1em; padding-right: 1em; text-align: center; vertical-align: top\">175</td>\n",
       "    </tr>\n",
       "    <tr>\n",
       "        <td style=\"padding-left: 1em; padding-right: 1em; text-align: center; vertical-align: top\">225</td>\n",
       "        <td style=\"padding-left: 1em; padding-right: 1em; text-align: center; vertical-align: top\">712</td>\n",
       "        <td style=\"padding-left: 1em; padding-right: 1em; text-align: center; vertical-align: top\">7.056179775280899</td>\n",
       "        <td style=\"padding-left: 1em; padding-right: 1em; text-align: center; vertical-align: top\">352</td>\n",
       "        <td style=\"padding-left: 1em; padding-right: 1em; text-align: center; vertical-align: top\">2511.9999999999995</td>\n",
       "        <td style=\"padding-left: 1em; padding-right: 1em; text-align: center; vertical-align: top\">194</td>\n",
       "    </tr>\n",
       "    <tr>\n",
       "        <td style=\"padding-left: 1em; padding-right: 1em; text-align: center; vertical-align: top\">14</td>\n",
       "        <td style=\"padding-left: 1em; padding-right: 1em; text-align: center; vertical-align: top\">32</td>\n",
       "        <td style=\"padding-left: 1em; padding-right: 1em; text-align: center; vertical-align: top\">5.882352941176471</td>\n",
       "        <td style=\"padding-left: 1em; padding-right: 1em; text-align: center; vertical-align: top\">17</td>\n",
       "        <td style=\"padding-left: 1em; padding-right: 1em; text-align: center; vertical-align: top\">100.00000000000001</td>\n",
       "        <td style=\"padding-left: 1em; padding-right: 1em; text-align: center; vertical-align: top\">17</td>\n",
       "    </tr>\n",
       "</table>\n",
       "[266 rows x 6 columns]<br/>Note: Only the head of the SFrame is printed.<br/>You can use print_rows(num_rows=m, num_columns=n) to print more rows and columns.\n",
       "</div>"
      ],
      "text/plain": [
       "Columns:\n",
       "\tSTORE_NBR\tint\n",
       "\tPROD_QTY\tint\n",
       "\tTOT_MEAN\tfloat\n",
       "\tNTXN\tint\n",
       "\tTOT_SALES\tfloat\n",
       "\tNCUSTOMER\tint\n",
       "\n",
       "Rows: 266\n",
       "\n",
       "Data:\n",
       "+-----------+----------+-------------------+------+--------------------+-----------+\n",
       "| STORE_NBR | PROD_QTY |      TOT_MEAN     | NTXN |     TOT_SALES      | NCUSTOMER |\n",
       "+-----------+----------+-------------------+------+--------------------+-----------+\n",
       "|    118    |   766    |  6.95248041775457 | 381  |       2662.8       |    205    |\n",
       "|    130    |   772    | 8.852442159383035 | 388  | 3443.599999999999  |    259    |\n",
       "|    257    |   802    | 6.866334164588525 | 401  | 2753.3999999999996 |    212    |\n",
       "|    217    |   786    |  8.9470737913486  | 390  |       3516.2       |    244    |\n",
       "|    232    |   794    | 7.027707808564232 | 391  | 2789.9999999999995 |    207    |\n",
       "|     49    |   765    | 8.834196891191713 | 384  | 3409.999999999999  |    247    |\n",
       "|     13    |   832    | 6.862980769230769 | 412  | 2854.9999999999995 |    206    |\n",
       "|    241    |   658    | 7.070516717325227 | 325  | 2326.1999999999994 |    175    |\n",
       "|    225    |   712    | 7.056179775280899 | 352  | 2511.9999999999995 |    194    |\n",
       "|     14    |    32    | 5.882352941176471 |  17  | 100.00000000000001 |     17    |\n",
       "+-----------+----------+-------------------+------+--------------------+-----------+\n",
       "[266 rows x 6 columns]\n",
       "Note: Only the head of the SFrame is printed.\n",
       "You can use print_rows(num_rows=m, num_columns=n) to print more rows and columns."
      ]
     },
     "execution_count": 177,
     "metadata": {},
     "output_type": "execute_result"
    }
   ],
   "source": [
    "new_dt = dt_19_01.groupby(key_column_names='STORE_NBR', \n",
    "                      operations={'TOT_SALES': agg.SUM('TOT_SALES'),\n",
    "                                  'NCUSTOMER': agg.COUNT_DISTINCT('LYLTY_CARD_NBR'),\n",
    "                                  'NTXN':agg.COUNT_DISTINCT('TXN_ID'),\n",
    "                                  'PROD_QTY':agg.SUM('PROD_QTY'),\n",
    "                                  'TOT_MEAN':agg.MEAN('TOT_SALES')\n",
    "                                 })\n",
    "new_dt"
   ]
  },
  {
   "cell_type": "markdown",
   "id": "415ac9c2",
   "metadata": {
    "heading_collapsed": true,
    "hidden": true
   },
   "source": [
    "## Applying Model to 77 Store"
   ]
  },
  {
   "cell_type": "code",
   "execution_count": 178,
   "id": "fb8af548",
   "metadata": {
    "hidden": true
   },
   "outputs": [
    {
     "data": {
      "text/html": [
       "<pre>Starting brute force nearest neighbors model training.</pre>"
      ],
      "text/plain": [
       "Starting brute force nearest neighbors model training."
      ]
     },
     "metadata": {},
     "output_type": "display_data"
    },
    {
     "data": {
      "text/html": [
       "<pre>Validating distance components.</pre>"
      ],
      "text/plain": [
       "Validating distance components."
      ]
     },
     "metadata": {},
     "output_type": "display_data"
    },
    {
     "data": {
      "text/html": [
       "<pre>Initializing model data.</pre>"
      ],
      "text/plain": [
       "Initializing model data."
      ]
     },
     "metadata": {},
     "output_type": "display_data"
    },
    {
     "data": {
      "text/html": [
       "<pre>Initializing distances.</pre>"
      ],
      "text/plain": [
       "Initializing distances."
      ]
     },
     "metadata": {},
     "output_type": "display_data"
    },
    {
     "data": {
      "text/html": [
       "<pre>Done.</pre>"
      ],
      "text/plain": [
       "Done."
      ]
     },
     "metadata": {},
     "output_type": "display_data"
    },
    {
     "data": {
      "text/html": [
       "<pre>Starting pairwise querying.</pre>"
      ],
      "text/plain": [
       "Starting pairwise querying."
      ]
     },
     "metadata": {},
     "output_type": "display_data"
    },
    {
     "data": {
      "text/html": [
       "<pre>+--------------+---------+-------------+--------------+</pre>"
      ],
      "text/plain": [
       "+--------------+---------+-------------+--------------+"
      ]
     },
     "metadata": {},
     "output_type": "display_data"
    },
    {
     "data": {
      "text/html": [
       "<pre>| Query points | # Pairs | % Complete. | Elapsed Time |</pre>"
      ],
      "text/plain": [
       "| Query points | # Pairs | % Complete. | Elapsed Time |"
      ]
     },
     "metadata": {},
     "output_type": "display_data"
    },
    {
     "data": {
      "text/html": [
       "<pre>+--------------+---------+-------------+--------------+</pre>"
      ],
      "text/plain": [
       "+--------------+---------+-------------+--------------+"
      ]
     },
     "metadata": {},
     "output_type": "display_data"
    },
    {
     "data": {
      "text/html": [
       "<pre>| 0            | 1       | 0.37594     | 30.275ms     |</pre>"
      ],
      "text/plain": [
       "| 0            | 1       | 0.37594     | 30.275ms     |"
      ]
     },
     "metadata": {},
     "output_type": "display_data"
    },
    {
     "data": {
      "text/html": [
       "<pre>| Done         |         | 100         | 30.919ms     |</pre>"
      ],
      "text/plain": [
       "| Done         |         | 100         | 30.919ms     |"
      ]
     },
     "metadata": {},
     "output_type": "display_data"
    },
    {
     "data": {
      "text/html": [
       "<pre>+--------------+---------+-------------+--------------+</pre>"
      ],
      "text/plain": [
       "+--------------+---------+-------------+--------------+"
      ]
     },
     "metadata": {},
     "output_type": "display_data"
    },
    {
     "data": {
      "text/html": [
       "<div style=\"max-height:1000px;max-width:1500px;overflow:auto;\"><table frame=\"box\" rules=\"cols\">\n",
       "    <tr>\n",
       "        <th style=\"padding-left: 1em; padding-right: 1em; text-align: center\">query_label</th>\n",
       "        <th style=\"padding-left: 1em; padding-right: 1em; text-align: center\">reference_label</th>\n",
       "        <th style=\"padding-left: 1em; padding-right: 1em; text-align: center\">distance</th>\n",
       "        <th style=\"padding-left: 1em; padding-right: 1em; text-align: center\">rank</th>\n",
       "    </tr>\n",
       "    <tr>\n",
       "        <td style=\"padding-left: 1em; padding-right: 1em; text-align: center; vertical-align: top\">0</td>\n",
       "        <td style=\"padding-left: 1em; padding-right: 1em; text-align: center; vertical-align: top\">77</td>\n",
       "        <td style=\"padding-left: 1em; padding-right: 1em; text-align: center; vertical-align: top\">0.0</td>\n",
       "        <td style=\"padding-left: 1em; padding-right: 1em; text-align: center; vertical-align: top\">1</td>\n",
       "    </tr>\n",
       "    <tr>\n",
       "        <td style=\"padding-left: 1em; padding-right: 1em; text-align: center; vertical-align: top\">0</td>\n",
       "        <td style=\"padding-left: 1em; padding-right: 1em; text-align: center; vertical-align: top\">38</td>\n",
       "        <td style=\"padding-left: 1em; padding-right: 1em; text-align: center; vertical-align: top\">3.1307667706093056e-05</td>\n",
       "        <td style=\"padding-left: 1em; padding-right: 1em; text-align: center; vertical-align: top\">2</td>\n",
       "    </tr>\n",
       "    <tr>\n",
       "        <td style=\"padding-left: 1em; padding-right: 1em; text-align: center; vertical-align: top\">0</td>\n",
       "        <td style=\"padding-left: 1em; padding-right: 1em; text-align: center; vertical-align: top\">163</td>\n",
       "        <td style=\"padding-left: 1em; padding-right: 1em; text-align: center; vertical-align: top\">3.887890081277767e-05</td>\n",
       "        <td style=\"padding-left: 1em; padding-right: 1em; text-align: center; vertical-align: top\">3</td>\n",
       "    </tr>\n",
       "    <tr>\n",
       "        <td style=\"padding-left: 1em; padding-right: 1em; text-align: center; vertical-align: top\">0</td>\n",
       "        <td style=\"padding-left: 1em; padding-right: 1em; text-align: center; vertical-align: top\">18</td>\n",
       "        <td style=\"padding-left: 1em; padding-right: 1em; text-align: center; vertical-align: top\">6.392289356937919e-05</td>\n",
       "        <td style=\"padding-left: 1em; padding-right: 1em; text-align: center; vertical-align: top\">4</td>\n",
       "    </tr>\n",
       "    <tr>\n",
       "        <td style=\"padding-left: 1em; padding-right: 1em; text-align: center; vertical-align: top\">0</td>\n",
       "        <td style=\"padding-left: 1em; padding-right: 1em; text-align: center; vertical-align: top\">53</td>\n",
       "        <td style=\"padding-left: 1em; padding-right: 1em; text-align: center; vertical-align: top\">7.713102017714579e-05</td>\n",
       "        <td style=\"padding-left: 1em; padding-right: 1em; text-align: center; vertical-align: top\">5</td>\n",
       "    </tr>\n",
       "</table>\n",
       "[5 rows x 4 columns]<br/>\n",
       "</div>"
      ],
      "text/plain": [
       "Columns:\n",
       "\tquery_label\tint\n",
       "\treference_label\tint\n",
       "\tdistance\tfloat\n",
       "\trank\tint\n",
       "\n",
       "Rows: 5\n",
       "\n",
       "Data:\n",
       "+-------------+-----------------+------------------------+------+\n",
       "| query_label | reference_label |        distance        | rank |\n",
       "+-------------+-----------------+------------------------+------+\n",
       "|      0      |        77       |          0.0           |  1   |\n",
       "|      0      |        38       | 3.1307667706093056e-05 |  2   |\n",
       "|      0      |       163       | 3.887890081277767e-05  |  3   |\n",
       "|      0      |        18       | 6.392289356937919e-05  |  4   |\n",
       "|      0      |        53       | 7.713102017714579e-05  |  5   |\n",
       "+-------------+-----------------+------------------------+------+\n",
       "[5 rows x 4 columns]"
      ]
     },
     "execution_count": 178,
     "metadata": {},
     "output_type": "execute_result"
    }
   ],
   "source": [
    "trial_store_77 = new_dt.filter_by([77], 'STORE_NBR')\n",
    "\n",
    "knn_model_77 = turicreate.nearest_neighbors.create(new_dt,\n",
    "                                                features=['PROD_QTY','TOT_MEAN','TOT_SALES','NCUSTOMER','NTXN'],\n",
    "                                                label='STORE_NBR',\n",
    "                                               distance = turicreate.distances.cosine)\n",
    "\n",
    "knn_model_77.query(trial_store_77)"
   ]
  },
  {
   "cell_type": "markdown",
   "id": "d527ca56",
   "metadata": {
    "heading_collapsed": true,
    "hidden": true
   },
   "source": [
    "## Applying Model to 86 Store"
   ]
  },
  {
   "cell_type": "code",
   "execution_count": 179,
   "id": "87aba15a",
   "metadata": {
    "hidden": true
   },
   "outputs": [
    {
     "data": {
      "text/html": [
       "<pre>Starting brute force nearest neighbors model training.</pre>"
      ],
      "text/plain": [
       "Starting brute force nearest neighbors model training."
      ]
     },
     "metadata": {},
     "output_type": "display_data"
    },
    {
     "data": {
      "text/html": [
       "<pre>Validating distance components.</pre>"
      ],
      "text/plain": [
       "Validating distance components."
      ]
     },
     "metadata": {},
     "output_type": "display_data"
    },
    {
     "data": {
      "text/html": [
       "<pre>Initializing model data.</pre>"
      ],
      "text/plain": [
       "Initializing model data."
      ]
     },
     "metadata": {},
     "output_type": "display_data"
    },
    {
     "data": {
      "text/html": [
       "<pre>Initializing distances.</pre>"
      ],
      "text/plain": [
       "Initializing distances."
      ]
     },
     "metadata": {},
     "output_type": "display_data"
    },
    {
     "data": {
      "text/html": [
       "<pre>Done.</pre>"
      ],
      "text/plain": [
       "Done."
      ]
     },
     "metadata": {},
     "output_type": "display_data"
    },
    {
     "data": {
      "text/html": [
       "<pre>Starting pairwise querying.</pre>"
      ],
      "text/plain": [
       "Starting pairwise querying."
      ]
     },
     "metadata": {},
     "output_type": "display_data"
    },
    {
     "data": {
      "text/html": [
       "<pre>+--------------+---------+-------------+--------------+</pre>"
      ],
      "text/plain": [
       "+--------------+---------+-------------+--------------+"
      ]
     },
     "metadata": {},
     "output_type": "display_data"
    },
    {
     "data": {
      "text/html": [
       "<pre>| Query points | # Pairs | % Complete. | Elapsed Time |</pre>"
      ],
      "text/plain": [
       "| Query points | # Pairs | % Complete. | Elapsed Time |"
      ]
     },
     "metadata": {},
     "output_type": "display_data"
    },
    {
     "data": {
      "text/html": [
       "<pre>+--------------+---------+-------------+--------------+</pre>"
      ],
      "text/plain": [
       "+--------------+---------+-------------+--------------+"
      ]
     },
     "metadata": {},
     "output_type": "display_data"
    },
    {
     "data": {
      "text/html": [
       "<pre>| 0            | 1       | 0.37594     | 655us        |</pre>"
      ],
      "text/plain": [
       "| 0            | 1       | 0.37594     | 655us        |"
      ]
     },
     "metadata": {},
     "output_type": "display_data"
    },
    {
     "data": {
      "text/html": [
       "<pre>| Done         |         | 100         | 1.278ms      |</pre>"
      ],
      "text/plain": [
       "| Done         |         | 100         | 1.278ms      |"
      ]
     },
     "metadata": {},
     "output_type": "display_data"
    },
    {
     "data": {
      "text/html": [
       "<pre>+--------------+---------+-------------+--------------+</pre>"
      ],
      "text/plain": [
       "+--------------+---------+-------------+--------------+"
      ]
     },
     "metadata": {},
     "output_type": "display_data"
    },
    {
     "data": {
      "text/html": [
       "<div style=\"max-height:1000px;max-width:1500px;overflow:auto;\"><table frame=\"box\" rules=\"cols\">\n",
       "    <tr>\n",
       "        <th style=\"padding-left: 1em; padding-right: 1em; text-align: center\">query_label</th>\n",
       "        <th style=\"padding-left: 1em; padding-right: 1em; text-align: center\">reference_label</th>\n",
       "        <th style=\"padding-left: 1em; padding-right: 1em; text-align: center\">distance</th>\n",
       "        <th style=\"padding-left: 1em; padding-right: 1em; text-align: center\">rank</th>\n",
       "    </tr>\n",
       "    <tr>\n",
       "        <td style=\"padding-left: 1em; padding-right: 1em; text-align: center; vertical-align: top\">0</td>\n",
       "        <td style=\"padding-left: 1em; padding-right: 1em; text-align: center; vertical-align: top\">86</td>\n",
       "        <td style=\"padding-left: 1em; padding-right: 1em; text-align: center; vertical-align: top\">0.0</td>\n",
       "        <td style=\"padding-left: 1em; padding-right: 1em; text-align: center; vertical-align: top\">1</td>\n",
       "    </tr>\n",
       "    <tr>\n",
       "        <td style=\"padding-left: 1em; padding-right: 1em; text-align: center; vertical-align: top\">0</td>\n",
       "        <td style=\"padding-left: 1em; padding-right: 1em; text-align: center; vertical-align: top\">207</td>\n",
       "        <td style=\"padding-left: 1em; padding-right: 1em; text-align: center; vertical-align: top\">1.610748707747689e-07</td>\n",
       "        <td style=\"padding-left: 1em; padding-right: 1em; text-align: center; vertical-align: top\">2</td>\n",
       "    </tr>\n",
       "    <tr>\n",
       "        <td style=\"padding-left: 1em; padding-right: 1em; text-align: center; vertical-align: top\">0</td>\n",
       "        <td style=\"padding-left: 1em; padding-right: 1em; text-align: center; vertical-align: top\">208</td>\n",
       "        <td style=\"padding-left: 1em; padding-right: 1em; text-align: center; vertical-align: top\">1.779736067408777e-07</td>\n",
       "        <td style=\"padding-left: 1em; padding-right: 1em; text-align: center; vertical-align: top\">3</td>\n",
       "    </tr>\n",
       "    <tr>\n",
       "        <td style=\"padding-left: 1em; padding-right: 1em; text-align: center; vertical-align: top\">0</td>\n",
       "        <td style=\"padding-left: 1em; padding-right: 1em; text-align: center; vertical-align: top\">129</td>\n",
       "        <td style=\"padding-left: 1em; padding-right: 1em; text-align: center; vertical-align: top\">2.811688413206781e-07</td>\n",
       "        <td style=\"padding-left: 1em; padding-right: 1em; text-align: center; vertical-align: top\">4</td>\n",
       "    </tr>\n",
       "    <tr>\n",
       "        <td style=\"padding-left: 1em; padding-right: 1em; text-align: center; vertical-align: top\">0</td>\n",
       "        <td style=\"padding-left: 1em; padding-right: 1em; text-align: center; vertical-align: top\">110</td>\n",
       "        <td style=\"padding-left: 1em; padding-right: 1em; text-align: center; vertical-align: top\">7.603157088365009e-07</td>\n",
       "        <td style=\"padding-left: 1em; padding-right: 1em; text-align: center; vertical-align: top\">5</td>\n",
       "    </tr>\n",
       "</table>\n",
       "[5 rows x 4 columns]<br/>\n",
       "</div>"
      ],
      "text/plain": [
       "Columns:\n",
       "\tquery_label\tint\n",
       "\treference_label\tint\n",
       "\tdistance\tfloat\n",
       "\trank\tint\n",
       "\n",
       "Rows: 5\n",
       "\n",
       "Data:\n",
       "+-------------+-----------------+-----------------------+------+\n",
       "| query_label | reference_label |        distance       | rank |\n",
       "+-------------+-----------------+-----------------------+------+\n",
       "|      0      |        86       |          0.0          |  1   |\n",
       "|      0      |       207       | 1.610748707747689e-07 |  2   |\n",
       "|      0      |       208       | 1.779736067408777e-07 |  3   |\n",
       "|      0      |       129       | 2.811688413206781e-07 |  4   |\n",
       "|      0      |       110       | 7.603157088365009e-07 |  5   |\n",
       "+-------------+-----------------+-----------------------+------+\n",
       "[5 rows x 4 columns]"
      ]
     },
     "execution_count": 179,
     "metadata": {},
     "output_type": "execute_result"
    }
   ],
   "source": [
    "trial_store_86 = new_dt.filter_by([86], 'STORE_NBR')\n",
    "\n",
    "knn_model_86 = turicreate.nearest_neighbors.create(new_dt,\n",
    "                                                features=['PROD_QTY','TOT_MEAN','TOT_SALES','NCUSTOMER','NTXN'],\n",
    "                                                label='STORE_NBR',\n",
    "                                               distance = turicreate.distances.cosine)\n",
    "\n",
    "knn_model_86.query(trial_store_86)"
   ]
  },
  {
   "cell_type": "markdown",
   "id": "edcf9f91",
   "metadata": {
    "heading_collapsed": true,
    "hidden": true
   },
   "source": [
    "## Applying Model to 88 Store"
   ]
  },
  {
   "cell_type": "code",
   "execution_count": 180,
   "id": "a4d0e8fe",
   "metadata": {
    "hidden": true
   },
   "outputs": [
    {
     "data": {
      "text/html": [
       "<pre>Starting brute force nearest neighbors model training.</pre>"
      ],
      "text/plain": [
       "Starting brute force nearest neighbors model training."
      ]
     },
     "metadata": {},
     "output_type": "display_data"
    },
    {
     "data": {
      "text/html": [
       "<pre>Validating distance components.</pre>"
      ],
      "text/plain": [
       "Validating distance components."
      ]
     },
     "metadata": {},
     "output_type": "display_data"
    },
    {
     "data": {
      "text/html": [
       "<pre>Initializing model data.</pre>"
      ],
      "text/plain": [
       "Initializing model data."
      ]
     },
     "metadata": {},
     "output_type": "display_data"
    },
    {
     "data": {
      "text/html": [
       "<pre>Initializing distances.</pre>"
      ],
      "text/plain": [
       "Initializing distances."
      ]
     },
     "metadata": {},
     "output_type": "display_data"
    },
    {
     "data": {
      "text/html": [
       "<pre>Done.</pre>"
      ],
      "text/plain": [
       "Done."
      ]
     },
     "metadata": {},
     "output_type": "display_data"
    },
    {
     "data": {
      "text/html": [
       "<pre>Starting pairwise querying.</pre>"
      ],
      "text/plain": [
       "Starting pairwise querying."
      ]
     },
     "metadata": {},
     "output_type": "display_data"
    },
    {
     "data": {
      "text/html": [
       "<pre>+--------------+---------+-------------+--------------+</pre>"
      ],
      "text/plain": [
       "+--------------+---------+-------------+--------------+"
      ]
     },
     "metadata": {},
     "output_type": "display_data"
    },
    {
     "data": {
      "text/html": [
       "<pre>| Query points | # Pairs | % Complete. | Elapsed Time |</pre>"
      ],
      "text/plain": [
       "| Query points | # Pairs | % Complete. | Elapsed Time |"
      ]
     },
     "metadata": {},
     "output_type": "display_data"
    },
    {
     "data": {
      "text/html": [
       "<pre>+--------------+---------+-------------+--------------+</pre>"
      ],
      "text/plain": [
       "+--------------+---------+-------------+--------------+"
      ]
     },
     "metadata": {},
     "output_type": "display_data"
    },
    {
     "data": {
      "text/html": [
       "<pre>| 0            | 1       | 0.37594     | 470us        |</pre>"
      ],
      "text/plain": [
       "| 0            | 1       | 0.37594     | 470us        |"
      ]
     },
     "metadata": {},
     "output_type": "display_data"
    },
    {
     "data": {
      "text/html": [
       "<pre>| Done         |         | 100         | 898us        |</pre>"
      ],
      "text/plain": [
       "| Done         |         | 100         | 898us        |"
      ]
     },
     "metadata": {},
     "output_type": "display_data"
    },
    {
     "data": {
      "text/html": [
       "<pre>+--------------+---------+-------------+--------------+</pre>"
      ],
      "text/plain": [
       "+--------------+---------+-------------+--------------+"
      ]
     },
     "metadata": {},
     "output_type": "display_data"
    },
    {
     "data": {
      "text/html": [
       "<div style=\"max-height:1000px;max-width:1500px;overflow:auto;\"><table frame=\"box\" rules=\"cols\">\n",
       "    <tr>\n",
       "        <th style=\"padding-left: 1em; padding-right: 1em; text-align: center\">query_label</th>\n",
       "        <th style=\"padding-left: 1em; padding-right: 1em; text-align: center\">reference_label</th>\n",
       "        <th style=\"padding-left: 1em; padding-right: 1em; text-align: center\">distance</th>\n",
       "        <th style=\"padding-left: 1em; padding-right: 1em; text-align: center\">rank</th>\n",
       "    </tr>\n",
       "    <tr>\n",
       "        <td style=\"padding-left: 1em; padding-right: 1em; text-align: center; vertical-align: top\">0</td>\n",
       "        <td style=\"padding-left: 1em; padding-right: 1em; text-align: center; vertical-align: top\">88</td>\n",
       "        <td style=\"padding-left: 1em; padding-right: 1em; text-align: center; vertical-align: top\">0.0</td>\n",
       "        <td style=\"padding-left: 1em; padding-right: 1em; text-align: center; vertical-align: top\">1</td>\n",
       "    </tr>\n",
       "    <tr>\n",
       "        <td style=\"padding-left: 1em; padding-right: 1em; text-align: center; vertical-align: top\">0</td>\n",
       "        <td style=\"padding-left: 1em; padding-right: 1em; text-align: center; vertical-align: top\">81</td>\n",
       "        <td style=\"padding-left: 1em; padding-right: 1em; text-align: center; vertical-align: top\">5.699697867012077e-07</td>\n",
       "        <td style=\"padding-left: 1em; padding-right: 1em; text-align: center; vertical-align: top\">2</td>\n",
       "    </tr>\n",
       "    <tr>\n",
       "        <td style=\"padding-left: 1em; padding-right: 1em; text-align: center; vertical-align: top\">0</td>\n",
       "        <td style=\"padding-left: 1em; padding-right: 1em; text-align: center; vertical-align: top\">199</td>\n",
       "        <td style=\"padding-left: 1em; padding-right: 1em; text-align: center; vertical-align: top\">1.013597848098513e-06</td>\n",
       "        <td style=\"padding-left: 1em; padding-right: 1em; text-align: center; vertical-align: top\">3</td>\n",
       "    </tr>\n",
       "    <tr>\n",
       "        <td style=\"padding-left: 1em; padding-right: 1em; text-align: center; vertical-align: top\">0</td>\n",
       "        <td style=\"padding-left: 1em; padding-right: 1em; text-align: center; vertical-align: top\">36</td>\n",
       "        <td style=\"padding-left: 1em; padding-right: 1em; text-align: center; vertical-align: top\">1.4786229715069155e-06</td>\n",
       "        <td style=\"padding-left: 1em; padding-right: 1em; text-align: center; vertical-align: top\">4</td>\n",
       "    </tr>\n",
       "    <tr>\n",
       "        <td style=\"padding-left: 1em; padding-right: 1em; text-align: center; vertical-align: top\">0</td>\n",
       "        <td style=\"padding-left: 1em; padding-right: 1em; text-align: center; vertical-align: top\">194</td>\n",
       "        <td style=\"padding-left: 1em; padding-right: 1em; text-align: center; vertical-align: top\">1.586006673215401e-06</td>\n",
       "        <td style=\"padding-left: 1em; padding-right: 1em; text-align: center; vertical-align: top\">5</td>\n",
       "    </tr>\n",
       "</table>\n",
       "[5 rows x 4 columns]<br/>\n",
       "</div>"
      ],
      "text/plain": [
       "Columns:\n",
       "\tquery_label\tint\n",
       "\treference_label\tint\n",
       "\tdistance\tfloat\n",
       "\trank\tint\n",
       "\n",
       "Rows: 5\n",
       "\n",
       "Data:\n",
       "+-------------+-----------------+------------------------+------+\n",
       "| query_label | reference_label |        distance        | rank |\n",
       "+-------------+-----------------+------------------------+------+\n",
       "|      0      |        88       |          0.0           |  1   |\n",
       "|      0      |        81       | 5.699697867012077e-07  |  2   |\n",
       "|      0      |       199       | 1.013597848098513e-06  |  3   |\n",
       "|      0      |        36       | 1.4786229715069155e-06 |  4   |\n",
       "|      0      |       194       | 1.586006673215401e-06  |  5   |\n",
       "+-------------+-----------------+------------------------+------+\n",
       "[5 rows x 4 columns]"
      ]
     },
     "execution_count": 180,
     "metadata": {},
     "output_type": "execute_result"
    }
   ],
   "source": [
    "trial_store_88 = new_dt.filter_by([88], 'STORE_NBR')\n",
    "\n",
    "knn_model_88 = turicreate.nearest_neighbors.create(new_dt,\n",
    "                                                features=['PROD_QTY','TOT_MEAN','TOT_SALES','NCUSTOMER','NTXN'],\n",
    "                                                label='STORE_NBR',\n",
    "                                               distance = turicreate.distances.cosine)\n",
    "\n",
    "knn_model_86.query(trial_store_88)"
   ]
  },
  {
   "cell_type": "markdown",
   "id": "e6dc7345",
   "metadata": {},
   "source": [
    "# During the TRIAL -:> Fev - Apr/19"
   ]
  },
  {
   "cell_type": "code",
   "execution_count": 181,
   "id": "16a7b27a",
   "metadata": {},
   "outputs": [],
   "source": [
    "dt_19_02 = data.filter_by(filter(lambda x: x > 201901 and x <= 201904, data['NEW_DATE']), 'NEW_DATE')"
   ]
  },
  {
   "cell_type": "markdown",
   "id": "f1d5a1b6",
   "metadata": {},
   "source": [
    "### Functions for hypothesis testing"
   ]
  },
  {
   "cell_type": "code",
   "execution_count": 182,
   "id": "510af7dc",
   "metadata": {
    "code_folding": [
     0
    ]
   },
   "outputs": [],
   "source": [
    "#FUNCTION -:> BEFORE TRIAL - stores_ab_BF(control_nbr, trial_nbr)\n",
    "\n",
    "def stores_ab_BF(control, trial):\n",
    "    \"\"\"\n",
    "        Output: a new dataframe organized by month and store number.\n",
    "        Input: two vars (control | trial)\n",
    "        control-var which receive the control store nbr\n",
    "        trial-var which receive the trial store nbr\n",
    "    \"\"\"\n",
    "    store_a = dt_19_01.filter_by(control, 'STORE_NBR')\n",
    "    store_b = dt_19_01.filter_by(trial, 'STORE_NBR')\n",
    "\n",
    "    BF_19_A = store_a.groupby(key_column_names=['STORE_NBR','NEW_DATE'], \n",
    "                          operations={'TOT_SUM': agg.SUM('TOT_SALES'),\n",
    "                                      'TOT_MEAN': agg.MEAN('TOT_SALES'),\n",
    "                                      'NCUST_SUM': agg.SUM('LYLTY_CARD_NBR'),\n",
    "                                      'NCUST_MEAN': agg.MEAN('LYLTY_CARD_NBR')\n",
    "                                     })\n",
    "    BF_19_B = store_b.groupby(key_column_names=['STORE_NBR','NEW_DATE'], \n",
    "                          operations={'TOT_SUM': agg.SUM('TOT_SALES'),\n",
    "                                      'TOT_MEAN': agg.MEAN('TOT_SALES'),\n",
    "                                      'NCUST_SUM': agg.SUM('LYLTY_CARD_NBR'),\n",
    "                                      'NCUST_MEAN': agg.MEAN('LYLTY_CARD_NBR')\n",
    "                                     })\n",
    "    return BF_19_A, BF_19_B"
   ]
  },
  {
   "cell_type": "code",
   "execution_count": 183,
   "id": "886bf358",
   "metadata": {
    "code_folding": [
     0
    ]
   },
   "outputs": [],
   "source": [
    "#FUNCTION -:> ALONG TRIAL - stores_ab_AFT(control_nbr, trial_nbr)\n",
    "def stores_ab_AFT(control, trial):\n",
    "    \"\"\"\n",
    "        Output: a new dataframe organized by month and store number.\n",
    "        Input: two vars (control | trial)\n",
    "        control-var which receive the control store nbr\n",
    "        trial-var which receive the trial store nbr\n",
    "    \"\"\"\n",
    "    store_a = dt_19_01.filter_by(control, 'STORE_NBR')\n",
    "    store_b = dt_19_01.filter_by(trial, 'STORE_NBR')\n",
    "\n",
    "    AFT_19_A = store_a.groupby(key_column_names=['STORE_NBR','NEW_DATE'], \n",
    "                          operations={'TOT_SUM': agg.SUM('TOT_SALES'),\n",
    "                                      'TOT_MEAN': agg.MEAN('TOT_SALES'),\n",
    "                                      'NCUST_SUM': agg.SUM('LYLTY_CARD_NBR'),\n",
    "                                      'NCUST_MEAN': agg.MEAN('LYLTY_CARD_NBR')\n",
    "                                     })\n",
    "    AFT_19_B = store_b.groupby(key_column_names=['STORE_NBR','NEW_DATE'], \n",
    "                          operations={'TOT_SUM': agg.SUM('TOT_SALES'),\n",
    "                                      'TOT_MEAN': agg.MEAN('TOT_SALES'),\n",
    "                                      'NCUST_SUM': agg.SUM('LYLTY_CARD_NBR'),\n",
    "                                      'NCUST_MEAN': agg.MEAN('LYLTY_CARD_NBR')\n",
    "                                     })\n",
    "    return AFT_19_A, AFT_19_B"
   ]
  },
  {
   "cell_type": "code",
   "execution_count": 184,
   "id": "855e434a",
   "metadata": {
    "code_folding": [
     0
    ]
   },
   "outputs": [],
   "source": [
    "#FUNTION -:> PERCENT_AB - PERCENT(control[col],trial[col]) //Try with tot_sum also//\n",
    "\n",
    "def PERCENT(control,trial):\n",
    "    \"\"\"\n",
    "        Output: percentage difference between pre-trial and trial mean sales.\n",
    "        Input: two vars (control | trial)\n",
    "        control-var which receive the control store nbr\n",
    "        trial-var which receive the trial store nbr\n",
    "    \"\"\"\n",
    "    nsales = trial.sum()/control.sum()\n",
    "    BF_AB_SCALE = control*nsales\n",
    "    PRC = abs((BF_AB_SCALE-trial)/BF_AB_SCALE)\n",
    "    return PRC"
   ]
  },
  {
   "cell_type": "code",
   "execution_count": 212,
   "id": "7dd923e6",
   "metadata": {
    "code_folding": []
   },
   "outputs": [],
   "source": [
    "#FUNCTION -:> STAND_TAILS - standard_ab(percent,control[col],trial[col])\n",
    "\n",
    "def standard_ab(percent,control,trial):\n",
    "    \"\"\"\n",
    "        Output: the result of t-stats.\n",
    "        --- True: if lies inside the bounds - statistically insignificant\n",
    "        --- False: if lies outside the bounds - statistically significant\n",
    "        Input: two vars (percent | control | trial)\n",
    "        percent-the difference between the control and trial stores along trial.\n",
    "        control-var control store nbr\n",
    "        trial-var trial store nbr\n",
    "    \"\"\"\n",
    "\n",
    "    STD = percent.std()\n",
    "    th_95 = control * (1+STD*2)\n",
    "    th_5 = control * (1-STD*2)\n",
    "    print('5th tail' + str(th_5))\n",
    "    print('95th tail:' + str(th_95))\n",
    "    print('Trial': + str(trial))"
   ]
  },
  {
   "cell_type": "markdown",
   "id": "1295fac5",
   "metadata": {},
   "source": [
    "## Testing sales' stores - control and trial"
   ]
  },
  {
   "cell_type": "code",
   "execution_count": 213,
   "id": "17dbedc8",
   "metadata": {
    "code_folding": []
   },
   "outputs": [
    {
     "name": "stdout",
     "output_type": "stream",
     "text": [
      "5th tail[218.4226204220254, 185.71762912888792, 174.28756839633732]\n",
      "95th tail:[305.17737957797465, 259.48237087111215, 243.51243160366275]\n",
      "Trial Value:204.40000000000003\n",
      "Trial Value:245.30000000000004\n",
      "Trial Value:267.30000000000007\n"
     ]
    },
    {
     "data": {
      "text/plain": [
       "array([ True, False, False])"
      ]
     },
     "execution_count": 213,
     "metadata": {},
     "output_type": "execute_result"
    }
   ],
   "source": [
    "#TRIAL(77) vs 163 - TOT_SALES\n",
    "#Building datas\n",
    "BF_163, BF_77 = stores_ab_BF(163, 77)\n",
    "AFT_163, AFT_77 = stores_ab_AFT(163, 77)\n",
    "\n",
    "#Percentage - TOT_SUM\n",
    "perc_16377 = PERCENT(BF_163['TOT_SUM'],BF_77['TOT_SUM'])\n",
    "\n",
    "#Result - TOT_SUM - [fev - mar - apr]\n",
    "result_16377 = standard_ab(perc_16377,BF_163['TOT_SUM'],AFT_77['TOT_SUM'])\n",
    "result_16377"
   ]
  },
  {
   "cell_type": "code",
   "execution_count": 214,
   "id": "0f421d2c",
   "metadata": {
    "code_folding": [
     0
    ]
   },
   "outputs": [
    {
     "name": "stdout",
     "output_type": "stream",
     "text": [
      "5th tail[1626342.7323926806, 1314800.409012318, 1418765.7056390727]\n",
      "95th tail:[13718661.26760732, 11090713.590987682, 11967690.294360926]\n",
      "Trial Value:3012973\n",
      "Trial Value:19169576\n",
      "Trial Value:3785902\n"
     ]
    },
    {
     "data": {
      "text/plain": [
       "array([ True,  True,  True])"
      ]
     },
     "execution_count": 214,
     "metadata": {},
     "output_type": "execute_result"
    }
   ],
   "source": [
    "#TRIAL(77) vs 163 - NCUSTOMER\n",
    "#Percentage - TOT_SUM\n",
    "perc_16377_customer = PERCENT(BF_163['NCUST_SUM'],BF_77['NCUST_SUM'])\n",
    "\n",
    "#Result - TOT_SUM\n",
    "result_16377_customer = standard_ab(perc_16377_customer,BF_163['NCUST_SUM'],AFT_77['NCUST_SUM'])\n",
    "result_16377_customer"
   ]
  },
  {
   "cell_type": "code",
   "execution_count": 215,
   "id": "48612ada",
   "metadata": {
    "code_folding": [
     0
    ]
   },
   "outputs": [
    {
     "name": "stdout",
     "output_type": "stream",
     "text": [
      "5th tail[218.4226204220254, 185.71762912888792, 174.28756839633732]\n",
      "95th tail:[305.17737957797465, 259.48237087111215, 243.51243160366275]\n",
      "Trial Value:918.0\n",
      "Trial Value:841.4\n",
      "Trial Value:841.2\n"
     ]
    },
    {
     "data": {
      "text/plain": [
       "array([False, False, False])"
      ]
     },
     "execution_count": 215,
     "metadata": {},
     "output_type": "execute_result"
    }
   ],
   "source": [
    "#TRIAL(86) vs 207 - TOT_SALES\n",
    "\n",
    "#Building datas\n",
    "BF_207, BF_86 = stores_ab_BF(207, 86)\n",
    "AFT_207, AFT_86 = stores_ab_AFT(207, 86)\n",
    "\n",
    "#Percentage - TOT_SUM\n",
    "perc_20786 = PERCENT(BF_163['TOT_SUM'],BF_77['TOT_SUM'])\n",
    "\n",
    "#Result - TOT_SUM - [fev - mar - apr]\n",
    "result_20786 = standard_ab(perc_20786,BF_163['TOT_SUM'],AFT_86['TOT_SUM'])\n",
    "result_20786"
   ]
  },
  {
   "cell_type": "code",
   "execution_count": 216,
   "id": "9f3815bc",
   "metadata": {
    "code_folding": [
     0
    ]
   },
   "outputs": [
    {
     "name": "stdout",
     "output_type": "stream",
     "text": [
      "5th tail[27488390.419213854, 24522054.662442274, 23731130.003930666]\n",
      "95th tail:[30095159.580786142, 26847521.337557722, 25981591.99606933]\n",
      "Trial Value:11284157\n",
      "Trial Value:11197109\n",
      "Trial Value:10335626\n"
     ]
    },
    {
     "data": {
      "text/plain": [
       "array([False, False, False])"
      ]
     },
     "execution_count": 216,
     "metadata": {},
     "output_type": "execute_result"
    }
   ],
   "source": [
    "#TRIAL(86) vs 207 - NCUSTOMER\n",
    "\n",
    "#Percentage - TOT_SUM\n",
    "perc_20786_customer = PERCENT(BF_207['NCUST_SUM'],BF_86['NCUST_SUM'])\n",
    "\n",
    "#Result - TOT_SUM\n",
    "result_20786_customer = standard_ab(perc_20786_customer,BF_207['NCUST_SUM'],AFT_86['NCUST_SUM'])\n",
    "result_20786_customer"
   ]
  },
  {
   "cell_type": "code",
   "execution_count": 217,
   "id": "ba213e65",
   "metadata": {
    "code_folding": [
     0
    ]
   },
   "outputs": [
    {
     "name": "stdout",
     "output_type": "stream",
     "text": [
      "5th tail[1099.341039498177, 991.6308725046557, 1281.5907883743532]\n",
      "95th tail:[1233.8589605018235, 1112.9691274953443, 1438.409211625647]\n",
      "Trial Value:1325.2\n",
      "Trial Value:1266.3999999999996\n",
      "Trial Value:1382.8000000000002\n"
     ]
    },
    {
     "data": {
      "text/plain": [
       "array([False, False,  True])"
      ]
     },
     "execution_count": 217,
     "metadata": {},
     "output_type": "execute_result"
    }
   ],
   "source": [
    "#TRIAL(88) VS 81 - TOT_SALES\n",
    "\n",
    "#Building datas\n",
    "BF_81, BF_88 = stores_ab_BF(81, 88)\n",
    "AFT_81, AFT_88 = stores_ab_AFT(81, 88)\n",
    "\n",
    "#Percentage - TOT_SUM\n",
    "perc_8188 = PERCENT(BF_81['TOT_SUM'],BF_88['TOT_SUM'])\n",
    "\n",
    "#Result - TOT_SUM - [fev - mar - apr]\n",
    "result_8188 = standard_ab(perc_8188,BF_81['TOT_SUM'],AFT_88['TOT_SUM'])\n",
    "result_8188"
   ]
  },
  {
   "cell_type": "code",
   "execution_count": 218,
   "id": "0fad47fa",
   "metadata": {
    "code_folding": [
     0
    ]
   },
   "outputs": [
    {
     "name": "stdout",
     "output_type": "stream",
     "text": [
      "5th tail[8081027.04320154, 7345314.47466727, 9550852.769056225]\n",
      "95th tail:[13351682.95679846, 12136119.52533273, 15780167.230943775]\n",
      "Trial Value:22423013\n",
      "Trial Value:12875401\n",
      "Trial Value:13845499\n"
     ]
    },
    {
     "data": {
      "text/plain": [
       "array([False, False,  True])"
      ]
     },
     "execution_count": 218,
     "metadata": {},
     "output_type": "execute_result"
    }
   ],
   "source": [
    "#TRIAL(88) vs 81 - NCUSTOMER\n",
    "\n",
    "#Percentage - TOT_SUM\n",
    "perc_8188_customer = PERCENT(BF_81['NCUST_SUM'],BF_88['NCUST_SUM'])\n",
    "\n",
    "#Result - TOT_SUM\n",
    "result_8188_customer = standard_ab(perc_8188_customer,BF_81['NCUST_SUM'],AFT_88['NCUST_SUM'])\n",
    "result_8188_customer"
   ]
  },
  {
   "cell_type": "markdown",
   "id": "e8149f27",
   "metadata": {},
   "source": [
    "# Next Step\n",
    "- Dashboard:\n",
    "    - Comparison between each pair (control and trial) > tot_sales and ncustomer\n",
    "    - Plot per month (Fev - Mar - Apr) of each pair"
   ]
  }
 ],
 "metadata": {
  "kernelspec": {
   "display_name": "Python 3 (ipykernel)",
   "language": "python",
   "name": "python3"
  },
  "language_info": {
   "codemirror_mode": {
    "name": "ipython",
    "version": 3
   },
   "file_extension": ".py",
   "mimetype": "text/x-python",
   "name": "python",
   "nbconvert_exporter": "python",
   "pygments_lexer": "ipython3",
   "version": "3.9.7"
  }
 },
 "nbformat": 4,
 "nbformat_minor": 5
}
